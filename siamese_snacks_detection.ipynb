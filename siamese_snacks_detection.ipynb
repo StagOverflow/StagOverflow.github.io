{
  "nbformat": 4,
  "nbformat_minor": 0,
  "metadata": {
    "colab": {
      "provenance": [],
      "authorship_tag": "ABX9TyODBNBJKTX1Qlc1jHR2Ah7l",
      "include_colab_link": true
    },
    "kernelspec": {
      "name": "python3",
      "display_name": "Python 3"
    },
    "language_info": {
      "name": "python"
    }
  },
  "cells": [
    {
      "cell_type": "markdown",
      "source": [
        "## Intro\n",
        "This is my take on the siamese neural network snack detection exercise I was presented as an interview exercise - This turned out to be an interesting topic I would like to explore further, and see if it applies to the world of audio plagiarism.\n",
        "\n",
        "## Helpful resources\n",
        "\n",
        "### High level refresher\n",
        " * https://www.youtube.com/watch?v=6jfw8MuKwpI\n",
        " * https://www.youtube.com/watch?v=d2XB5-tuCWU\n",
        "\n",
        "### Digging Deeper\n",
        " * https://www.cs.toronto.edu/~ranzato/publications/taigman_cvpr14.pdf\n",
        " * https://arxiv.org/abs/1503.03832\n",
        "\n",
        "### *Implementation pointers\n",
        " * https://www.kaggle.com/code/hirotaka0122/triplet-loss-with-pytorch\n",
        " * https://datahacker.rs/019-siamese-network-in-pytorch-with-application-to-face-similarity/\n",
        "\n",
        "\n",
        "*watch out, code quality is low, these are good only as primers\n",
        "\n"
      ],
      "metadata": {
        "id": "PU4JPAveYb_b"
      }
    },
    {
      "cell_type": "code",
      "source": [
        "!pip install datasets"
      ],
      "metadata": {
        "id": "n5PNm6XFdIG6"
      },
      "execution_count": null,
      "outputs": []
    },
    {
      "cell_type": "code",
      "execution_count": null,
      "metadata": {
        "id": "Sy9nH57Wy4YM"
      },
      "outputs": [],
      "source": [
        "%matplotlib inline\n",
        "import matplotlib.pyplot as plt\n",
        "import numpy as np\n",
        "import random\n",
        "from PIL import Image\n",
        "import PIL.ImageOps\n",
        "\n",
        "import datasets\n",
        "import torchvision\n",
        "import torchvision.datasets as datasets\n",
        "import torchvision.transforms as transforms\n",
        "from torch.utils.data import DataLoader, Dataset\n",
        "import torchvision.utils\n",
        "import torch\n",
        "from torch.autograd import Variable\n",
        "import torch.nn as nn\n",
        "from torch import optim\n",
        "import torch.nn.functional as F"
      ]
    },
    {
      "cell_type": "markdown",
      "source": [
        "# I. Data Pre-processing, Storage\n",
        "\n",
        "\n",
        "\n",
        "\n",
        " * Structure the data as image folders for smoother integration with PyTorch\n",
        " * Write folders to a public GCS bucket created for the purpose of this exercise\n",
        " * Setup a mount from the bucket to this colab\n",
        "\n"
      ],
      "metadata": {
        "id": "H5ott3U07jZa"
      }
    },
    {
      "cell_type": "code",
      "source": [
        "from pathlib import Path\n",
        "from datasets import load_dataset\n",
        "from PIL import Image\n",
        "\n",
        "all_the_snacks = load_dataset('Matthijs/snacks')"
      ],
      "metadata": {
        "id": "Wv5PP5-yy7NK"
      },
      "execution_count": null,
      "outputs": []
    },
    {
      "cell_type": "code",
      "source": [
        "import os\n",
        "from pathlib import Path\n",
        "from datasets import DatasetDict\n",
        "import uuid\n",
        "\n",
        "def create_image_folder(root, hf_dataset, exist_ok=False):\n",
        "  for split in hf_dataset:\n",
        "    for label in hf_dataset[split].features['label'].names:\n",
        "      os.makedirs(Path(root, split, label), exist_ok=exist_ok)\n",
        "\n",
        "    label_map = hf_dataset[split].features['label'].int2str\n",
        "\n",
        "    for record in hf_dataset[split]:\n",
        "      record['image'].save(Path(root, split, label_map(record['label']), f'{uuid.uuid4()}.jpeg'))\n",
        "\n",
        "create_image_folder('my_snacks', all_the_snacks, exist_ok=True)\n",
        "\n",
        "# Note: this only needed to be ran to populate GCS. In real life we'd want an idempotent process that can be used\n",
        "# to reload and update data as needed.. Not for today :)"
      ],
      "metadata": {
        "id": "9OjaMj3zlxmG"
      },
      "execution_count": null,
      "outputs": []
    },
    {
      "cell_type": "markdown",
      "source": [
        "I am keeping it simple here and run bash commands directly through colab in order to setup fuse and mount the bucket. Given the size of the dataset, I would rather keep the data local and speed up the training, but this can be uncommented to enable the GCS mount."
      ],
      "metadata": {
        "id": "3IU_o7uwnR_N"
      }
    },
    {
      "cell_type": "code",
      "source": [
        "#!mkdir my_snacks_gcs"
      ],
      "metadata": {
        "id": "O-mBrtJ1hR3m"
      },
      "execution_count": null,
      "outputs": []
    },
    {
      "cell_type": "code",
      "source": [
        "#!echo \"deb http://packages.cloud.google.com/apt gcsfuse-bionic main\" > /etc/apt/sources.list.d/gcsfuse.list"
      ],
      "metadata": {
        "id": "zHyzC_Gxla7P"
      },
      "execution_count": null,
      "outputs": []
    },
    {
      "cell_type": "code",
      "source": [
        "#!curl https://packages.cloud.google.com/apt/doc/apt-key.gpg | apt-key add -"
      ],
      "metadata": {
        "id": "gqvR04CNl1_o"
      },
      "execution_count": null,
      "outputs": []
    },
    {
      "cell_type": "code",
      "source": [
        "#!apt -qq update"
      ],
      "metadata": {
        "id": "JWIZgZQplzh7"
      },
      "execution_count": null,
      "outputs": []
    },
    {
      "cell_type": "code",
      "source": [
        "#!apt -qq install gcsfuse"
      ],
      "metadata": {
        "id": "aLclJlVFlv0C"
      },
      "execution_count": null,
      "outputs": []
    },
    {
      "cell_type": "code",
      "source": [
        "#!gcsfuse --implicit-dirs great_siamese_snacks my_snacks_gcs"
      ],
      "metadata": {
        "id": "CvhFcEHQjfMK"
      },
      "execution_count": null,
      "outputs": []
    },
    {
      "cell_type": "markdown",
      "source": [
        "The task requires a custom Pytorch Dataset. Note this dataset has two usages:\n",
        " * Provide Triplets to feed the model at each training step, allowing to compute triplet loss\n",
        " * Provide pairs at validation and testing time to evaluate the model on the image verification task"
      ],
      "metadata": {
        "id": "huyxwZ-rR-xW"
      }
    },
    {
      "cell_type": "code",
      "source": [
        "import random\n",
        "import numpy as np\n",
        "import torch\n",
        "from torch.utils.data import DataLoader, Dataset\n",
        "import torchvision.datasets as datasets\n",
        "\n",
        "# Defining a custom dataset that makes image folder compatible with triplet loss\n",
        "# TODO: Extend image folder instead of composing\n",
        "# TODO: Add some image validity checks/clean up the dataset\n",
        "\n",
        "class SiameseSamplerDataset(Dataset):\n",
        "    def __init__(self, root, transform=None, test=False):\n",
        "        self.image_folder = datasets.ImageFolder(root=root)\n",
        "        self.idx_to_class = {v:k for k, v in self.image_folder.class_to_idx.items()}\n",
        "        self.transform = transform\n",
        "        self.test = test\n",
        "\n",
        "\n",
        "    def _get_different_sample(self, anchor_idx, is_positive):\n",
        "      #TODO: Pytorch dataset doesn't support filtering..\n",
        "      # consider turning the list of records into a dict of lists and use that to sample\n",
        "      # to reduce the training overhead\n",
        "\n",
        "      #TODO: Random triplet selection is a somewhat naive approach: https://www.youtube.com/watch?v=d2XB5-tuCWU\n",
        "      while True:\n",
        "        candidate_idx = random.randint(0, len(self.image_folder) - 1)\n",
        "        candidate_sample = self.image_folder.imgs[candidate_idx]\n",
        "        is_label_match = self.image_folder.imgs[anchor_idx][1] == candidate_sample[1]\n",
        "\n",
        "        if not candidate_idx == anchor_idx and (is_label_match == is_positive):\n",
        "          return candidate_sample\n",
        "\n",
        "\n",
        "\n",
        "    def __getitem__(self, index):\n",
        "        anchor = self.image_folder[index]\n",
        "\n",
        "        positive_sample = self._get_different_sample(index, is_positive=True)\n",
        "        negative_sample = self._get_different_sample(index, is_positive=False)\n",
        "\n",
        "        # TODO: check this is redudant\n",
        "\n",
        "        anchor_img = anchor[0]\n",
        "        pos_img = Image.open(positive_sample[0])\n",
        "        neg_img = Image.open(negative_sample[0])\n",
        "\n",
        "        anchor_img = anchor_img.convert(\"L\")\n",
        "        pos_img = pos_img.convert(\"L\")\n",
        "        neg_img = neg_img.convert(\"L\")\n",
        "\n",
        "        if self.transform:\n",
        "            anchor_img = self.transform(anchor_img)\n",
        "            pos_img = self.transform(pos_img)\n",
        "            neg_img = self.transform(neg_img)\n",
        "\n",
        "        anchor_label = anchor[1]\n",
        "\n",
        "        if self.test:\n",
        "          candidate_img, is_match = random.choice([(neg_img, False), (pos_img, True)])\n",
        "          return anchor_img, candidate_img, is_match\n",
        "\n",
        "        return anchor_img, pos_img, neg_img, anchor_label\n",
        "\n",
        "    def __len__(self):\n",
        "        return len(self.image_folder.imgs)"
      ],
      "metadata": {
        "id": "vSOmTbNw2O0o"
      },
      "execution_count": null,
      "outputs": []
    },
    {
      "cell_type": "code",
      "source": [
        "import matplotlib.pyplot as plt\n",
        "\n",
        "# Showing images\n",
        "def imshow(img, text=None):\n",
        "    npimg = img.numpy()\n",
        "    plt.axis(\"off\")\n",
        "    if text:\n",
        "        plt.text(75, 8, text, style='italic',fontweight='bold',\n",
        "            bbox={'facecolor':'white', 'alpha':0.8, 'pad':10})\n",
        "\n",
        "    plt.imshow(np.transpose(npimg, (1, 2, 0)))\n",
        "    plt.show()\n",
        "\n",
        "# Plotting data\n",
        "def show_plot(iteration,loss):\n",
        "    plt.plot(iteration,loss)\n",
        "    plt.show()"
      ],
      "metadata": {
        "id": "3bzRXe5uv7uF"
      },
      "execution_count": null,
      "outputs": []
    },
    {
      "cell_type": "code",
      "source": [
        "from pathlib import Path\n",
        "\n",
        "train_transform = transforms.Compose([transforms.Resize((224,224)), # Used to just resize to 100\n",
        "                                     transforms.ToTensor(),\n",
        "                                     transforms.Normalize(mean=[0.485, 0.456, 0.406],\n",
        "                                     std=[0.229, 0.224, 0.225])\n",
        "                                    ])\n",
        "\n",
        "gcs_root = Path('.', 'my_snacks_gcs', 'my_snacks')\n",
        "local_root = Path('.', 'my_snacks')\n",
        "\n",
        "train_dataset = SiameseSamplerDataset(Path(local_root, 'train'), train_transform)\n",
        "val_dataset = SiameseSamplerDataset(Path(local_root, 'validation'), train_transform, test=True)\n",
        "\n",
        "batch_size = 8\n",
        "train_loader = DataLoader(train_dataset, batch_size=batch_size, shuffle=True, num_workers=2)\n",
        "val_loader = DataLoader(val_dataset, batch_size=1, shuffle=True, num_workers=2)"
      ],
      "metadata": {
        "id": "8j4cAGiRxSvF"
      },
      "execution_count": null,
      "outputs": []
    },
    {
      "cell_type": "code",
      "source": [
        "# Let's take a quick look at a preprocessed batch\n",
        "def peek(data: SiameseSamplerDataset):\n",
        "  loader = DataLoader(data,\n",
        "                          shuffle=True,\n",
        "                          num_workers=2,\n",
        "                          batch_size=1)\n",
        "\n",
        "  batch = next(iter(loader))\n",
        "  fig = plt.figure(figsize=(10, 7))\n",
        "\n",
        "  rows = 2\n",
        "  columns = 2\n",
        "\n",
        "  label = data.idx_to_class[batch[3].numpy()[0]]\n",
        "  fig.add_subplot(rows, columns, 1)\n",
        "  plt.imshow(batch[0][0].numpy().transpose(1, 2, 0))\n",
        "  plt.title(f\"The anchor: {label}\")\n",
        "  fig.add_subplot(rows, columns, 2)\n",
        "  plt.imshow(batch[1][0].numpy().transpose(1, 2, 0))\n",
        "  plt.title(f\"A different {label}\")\n",
        "  fig.add_subplot(rows, columns, 3)\n",
        "  plt.imshow(batch[2][0].numpy().transpose(1, 2, 0))\n",
        "  plt.title(f\"Not a {label}\")\n",
        "\n",
        "peek(train_dataset)"
      ],
      "metadata": {
        "colab": {
          "base_uri": "https://localhost:8080/",
          "height": 640
        },
        "id": "beZHBKvf5ye9",
        "outputId": "2406d98b-6ca5-43a0-e2f1-593f95faef9f"
      },
      "execution_count": null,
      "outputs": [
        {
          "output_type": "stream",
          "name": "stdout",
          "text": [
            "4\n"
          ]
        },
        {
          "output_type": "display_data",
          "data": {
            "text/plain": [
              "<Figure size 1000x700 with 3 Axes>"
            ],
            "image/png": "[encoded data removed]"
          },
          "metadata": {}
        }
      ]
    },
    {
      "cell_type": "markdown",
      "source": [
        "\n",
        "\n",
        "## II. Defining the Siamese Network\n",
        "\n",
        "\n",
        "One noticeable difference between implementations is using the network to generate embeddings and report on similarity scores, vs adding a single logistic unit/softmax at the end and output the answer to \"Are these two things the same\", as suggested in the original paper: https://www.cs.toronto.edu/~ranzato/publications/taigman_cvpr14.pdf\n",
        "\n",
        "In this case, we are optimizing for accuracy and using a dataset with class labels as targets. We are reducing the space to a classification problem and we should optimize accordingly.\n",
        "\n",
        "That original paper however, uses cross entropy loss rather than triplet loss. What we are trying to achieve here within the constraints of the exercise is much more similar to this: https://arxiv.org/pdf/1503.03832.pdf"
      ],
      "metadata": {
        "id": "iaDltTx57aZ5"
      }
    },
    {
      "cell_type": "code",
      "source": [
        "# Create the Siamese Neural Network\n",
        "# TODO: See what happens with a fine tuned facenet instead of starting from scratch\n",
        "\n",
        "class SiameseNetwork(nn.Module):\n",
        "\n",
        "    def __init__(self):\n",
        "        super(SiameseNetwork, self).__init__()\n",
        "        self.cnn = nn.Sequential(\n",
        "            nn.Conv2d(1, 96, kernel_size=11,stride=4),\n",
        "            nn.ReLU(inplace=True),\n",
        "            nn.MaxPool2d(3, stride=2),\n",
        "\n",
        "            nn.Conv2d(96, 256, kernel_size=5, stride=1),\n",
        "            nn.ReLU(inplace=True),\n",
        "            nn.MaxPool2d(2, stride=2),\n",
        "\n",
        "            nn.Conv2d(256, 384, kernel_size=3,stride=1),\n",
        "            nn.ReLU(inplace=True)\n",
        "        )\n",
        "\n",
        "        self.fc = nn.Sequential(\n",
        "            nn.Linear(384, 1024),\n",
        "            nn.ReLU(inplace=True),\n",
        "\n",
        "            nn.Linear(1024, 256),\n",
        "            nn.ReLU(inplace=True),\n",
        "\n",
        "            nn.Linear(256,2)\n",
        "        )\n",
        "\n",
        "\n",
        "    def forward(self, image):\n",
        "        output = self.cnn(image)\n",
        "        output = output.view(output.size()[0], -1)\n",
        "        output = self.fc(output)\n",
        "        return output\n"
      ],
      "metadata": {
        "id": "d50yIWKOjrT2"
      },
      "execution_count": null,
      "outputs": []
    },
    {
      "cell_type": "code",
      "source": [
        "import torch.nn as nn\n",
        "\n",
        "model = SiameseNetwork()\n",
        "criterion = nn.TripletMarginLoss(margin=1.0, p=2)\n",
        "optimizer = optim.Adam(model.fc.parameters(), lr=0.001)\n",
        "epochs = 10\n",
        "scheduler = torch.optim.lr_scheduler.CosineAnnealingLR(\n",
        "    optimizer,\n",
        "    T_max = np.ceil(len(train_loader.dataset) / batch_size) * epochs,\n",
        "    eta_min = 1e-5\n",
        ")"
      ],
      "metadata": {
        "id": "oOWgtoSI71Qc"
      },
      "execution_count": null,
      "outputs": []
    },
    {
      "cell_type": "code",
      "source": [
        "from sklearn.metrics import accuracy_score\n",
        "\n",
        "# I will be looking at accuracy during evaluation, that being said this doesn't give the full color on the similiarity scores we are generating.\n",
        "# TODO: Explore other metrics, take a look at what the literature says\n",
        "def calculate_metric(y, y_pred):\n",
        "    metric = accuracy_score(y, y_pred)\n",
        "    return metric\n",
        "\n",
        "def calculate_distance(embedding_a, embedding_b):\n",
        "  return float(np.linalg.norm(embedding_a - embedding_b))"
      ],
      "metadata": {
        "id": "MQEUModI71S5"
      },
      "execution_count": null,
      "outputs": []
    },
    {
      "cell_type": "code",
      "source": [
        "# TODO: Tune the distance threshold\n",
        "# TODO: store a reference embedding for each snack type instead of running inference twice\n",
        "\n",
        "def is_same_snack(candidate, identity, threshold=0.8):\n",
        "    distance = calculate_distance(candidate, identity)\n",
        "    return distance < threshold"
      ],
      "metadata": {
        "id": "RFtkWDNP7P2d"
      },
      "execution_count": null,
      "outputs": []
    },
    {
      "cell_type": "code",
      "source": [
        "from matplotlib.legend import StepPatch\n",
        "from tqdm import tqdm\n",
        "\n",
        "def train_one_epoch(dataloader, model, optimizer, scheduler):\n",
        "  model.train()\n",
        "\n",
        "  y_pred_list = []\n",
        "  y_list = []\n",
        "  running_loss = []\n",
        "  steps = []\n",
        "\n",
        "  for step, (anchor_img, positive_img, negative_img, anchor_label) in enumerate(tqdm(train_loader, desc=\"Training\", leave=False)):\n",
        "    optimizer.zero_grad()\n",
        "\n",
        "    with torch.set_grad_enabled(True):\n",
        "      A_embd = model(anchor_img)\n",
        "      p_embd = model(positive_img)\n",
        "      n_embd = model(negative_img)\n",
        "\n",
        "      loss = criterion(A_embd, p_embd, n_embd)\n",
        "      loss.backward()\n",
        "      optimizer.step()\n",
        "\n",
        "      running_loss.append(loss.cpu().detach().numpy())\n",
        "\n",
        "      A_embd = A_embd.detach().numpy()\n",
        "      p_embd = p_embd.detach().numpy()\n",
        "      n_embd = n_embd.detach().numpy()\n",
        "\n",
        "      y_pred_list += [is_same_snack(p_embd, A_embd), is_same_snack(n_embd, A_embd)]\n",
        "      y_list += [True, False]\n",
        "\n",
        "\n",
        "    if step % 10 == 0 :\n",
        "      print(f\"Loss: {loss.item()}\\n\")\n",
        "\n",
        "  return calculate_metric(y_list, y_pred_list), np.mean(running_loss)\n"
      ],
      "metadata": {
        "id": "-gq0nGV971Vy"
      },
      "execution_count": null,
      "outputs": []
    },
    {
      "cell_type": "code",
      "source": [
        "train_one_epoch(train_loader, model, optimizer, scheduler)"
      ],
      "metadata": {
        "id": "7u4sEV7d71Ya"
      },
      "execution_count": null,
      "outputs": []
    },
    {
      "cell_type": "code",
      "source": [
        "def validate_one_epoch(dataloader, model):\n",
        "    model.eval()\n",
        "\n",
        "    y_pred_list = []\n",
        "    y_list = []\n",
        "\n",
        "    for batch in dataloader:\n",
        "        anchor_img, candidate_img, y = batch\n",
        "\n",
        "        with torch.no_grad():\n",
        "            y_pred = is_same_snack(model(candidate_img), model(anchor_img))\n",
        "            y_pred_list.append(y_pred)\n",
        "            y_list.extend(y)\n",
        "\n",
        "    return calculate_metric(y_list, y_pred_list)\n",
        "\n",
        "val_accuracy = validate_one_epoch(val_loader, model)\n",
        "val_accuracy"
      ],
      "metadata": {
        "colab": {
          "base_uri": "https://localhost:8080/"
        },
        "id": "SoTHeoK36Q8r",
        "outputId": "457d445d-6cab-4bfc-d294-587a65146d0d"
      },
      "execution_count": null,
      "outputs": [
        {
          "output_type": "execute_result",
          "data": {
            "text/plain": [
              "0.49109947643979057"
            ]
          },
          "metadata": {},
          "execution_count": 498
        }
      ]
    },
    {
      "cell_type": "code",
      "source": [
        "def fit(model, optimizer, scheduler, train_dataloader, epochs, valid_dataloader=None):\n",
        "    acc_list = []\n",
        "    loss_list = []\n",
        "    val_acc_list = []\n",
        "\n",
        "    for epoch in range(epochs):\n",
        "        acc, loss = train_one_epoch(train_loader, model, optimizer, scheduler)\n",
        "\n",
        "        if valid_dataloader:\n",
        "            val_acc = validate_one_epoch(val_loader, model)\n",
        "\n",
        "        acc_list.append(acc)\n",
        "        loss_list.append(loss)\n",
        "\n",
        "        if valid_dataloader:\n",
        "            val_acc_list.append(val_acc)\n",
        "\n",
        "    return acc_list, loss_list, val_acc_list, val_loss_list, model\n",
        "\n",
        "acc_list, loss_list, val_acc_list, model = fit(model, optimizer, scheduler, train_loader, 1, val_loader)"
      ],
      "metadata": {
        "colab": {
          "base_uri": "https://localhost:8080/"
        },
        "id": "8tG3VqClWHcr",
        "outputId": "6aa2145b-e21b-4492-9984-60f9e4e2d5ac"
      },
      "execution_count": null,
      "outputs": [
        {
          "output_type": "stream",
          "name": "stderr",
          "text": [
            "Training:   0%|          | 1/1210 [00:01<25:45,  1.28s/it]"
          ]
        },
        {
          "output_type": "stream",
          "name": "stdout",
          "text": [
            "Epoch: 0\n",
            "Loss: 1.011501431465149\n",
            "\n"
          ]
        },
        {
          "output_type": "stream",
          "name": "stderr",
          "text": [
            "Training:   1%|          | 11/1210 [00:04<05:14,  3.82it/s]"
          ]
        },
        {
          "output_type": "stream",
          "name": "stdout",
          "text": [
            "Epoch: 0\n",
            "Loss: 0.9894562363624573\n",
            "\n"
          ]
        },
        {
          "output_type": "stream",
          "name": "stderr",
          "text": [
            "Training:   2%|▏         | 21/1210 [00:06<04:54,  4.03it/s]"
          ]
        },
        {
          "output_type": "stream",
          "name": "stdout",
          "text": [
            "Epoch: 0\n",
            "Loss: 1.008534550666809\n",
            "\n"
          ]
        },
        {
          "output_type": "stream",
          "name": "stderr",
          "text": [
            "Training:   3%|▎         | 31/1210 [00:09<04:49,  4.08it/s]"
          ]
        },
        {
          "output_type": "stream",
          "name": "stdout",
          "text": [
            "Epoch: 0\n",
            "Loss: 1.0224710702896118\n",
            "\n"
          ]
        },
        {
          "output_type": "stream",
          "name": "stderr",
          "text": [
            "Training:   3%|▎         | 41/1210 [00:11<04:50,  4.02it/s]"
          ]
        },
        {
          "output_type": "stream",
          "name": "stdout",
          "text": [
            "Epoch: 0\n",
            "Loss: 1.0006190538406372\n",
            "\n"
          ]
        },
        {
          "output_type": "stream",
          "name": "stderr",
          "text": [
            "Training:   4%|▍         | 51/1210 [00:17<09:33,  2.02it/s]"
          ]
        },
        {
          "output_type": "stream",
          "name": "stdout",
          "text": [
            "Epoch: 0\n",
            "Loss: 1.0322648286819458\n",
            "\n"
          ]
        },
        {
          "output_type": "stream",
          "name": "stderr",
          "text": [
            "Training:   5%|▌         | 61/1210 [00:19<04:47,  4.00it/s]"
          ]
        },
        {
          "output_type": "stream",
          "name": "stdout",
          "text": [
            "Epoch: 0\n",
            "Loss: 0.9896819591522217\n",
            "\n"
          ]
        },
        {
          "output_type": "stream",
          "name": "stderr",
          "text": [
            "Training:   6%|▌         | 71/1210 [00:21<04:32,  4.19it/s]"
          ]
        },
        {
          "output_type": "stream",
          "name": "stdout",
          "text": [
            "Epoch: 0\n",
            "Loss: 1.0060951709747314\n",
            "\n"
          ]
        },
        {
          "output_type": "stream",
          "name": "stderr",
          "text": [
            "Training:   7%|▋         | 81/1210 [00:24<04:31,  4.15it/s]"
          ]
        },
        {
          "output_type": "stream",
          "name": "stdout",
          "text": [
            "Epoch: 0\n",
            "Loss: 0.9519314765930176\n",
            "\n"
          ]
        },
        {
          "output_type": "stream",
          "name": "stderr",
          "text": [
            "Training:   8%|▊         | 91/1210 [00:27<06:37,  2.82it/s]"
          ]
        },
        {
          "output_type": "stream",
          "name": "stdout",
          "text": [
            "Epoch: 0\n",
            "Loss: 1.0484998226165771\n",
            "\n"
          ]
        },
        {
          "output_type": "stream",
          "name": "stderr",
          "text": [
            "Training:   8%|▊         | 101/1210 [00:30<05:10,  3.58it/s]"
          ]
        },
        {
          "output_type": "stream",
          "name": "stdout",
          "text": [
            "Epoch: 0\n",
            "Loss: 0.9817898273468018\n",
            "\n"
          ]
        },
        {
          "output_type": "stream",
          "name": "stderr",
          "text": [
            "Training:   9%|▉         | 111/1210 [00:33<04:23,  4.18it/s]"
          ]
        },
        {
          "output_type": "stream",
          "name": "stdout",
          "text": [
            "Epoch: 0\n",
            "Loss: 1.0731652975082397\n",
            "\n"
          ]
        },
        {
          "output_type": "stream",
          "name": "stderr",
          "text": [
            "Training:  10%|█         | 121/1210 [00:35<04:17,  4.23it/s]"
          ]
        },
        {
          "output_type": "stream",
          "name": "stdout",
          "text": [
            "Epoch: 0\n",
            "Loss: 1.194796085357666\n",
            "\n"
          ]
        },
        {
          "output_type": "stream",
          "name": "stderr",
          "text": [
            "Training:  11%|█         | 131/1210 [00:37<04:15,  4.22it/s]"
          ]
        },
        {
          "output_type": "stream",
          "name": "stdout",
          "text": [
            "Epoch: 0\n",
            "Loss: 1.1324745416641235\n",
            "\n"
          ]
        },
        {
          "output_type": "stream",
          "name": "stderr",
          "text": [
            "Training:  12%|█▏        | 141/1210 [00:40<05:28,  3.25it/s]"
          ]
        },
        {
          "output_type": "stream",
          "name": "stdout",
          "text": [
            "Epoch: 0\n",
            "Loss: 0.9780849814414978\n",
            "\n"
          ]
        },
        {
          "output_type": "stream",
          "name": "stderr",
          "text": [
            "Training:  12%|█▏        | 151/1210 [00:44<05:31,  3.19it/s]"
          ]
        },
        {
          "output_type": "stream",
          "name": "stdout",
          "text": [
            "Epoch: 0\n",
            "Loss: 0.7993800640106201\n",
            "\n"
          ]
        },
        {
          "output_type": "stream",
          "name": "stderr",
          "text": [
            "Training:  13%|█▎        | 161/1210 [00:46<04:09,  4.20it/s]"
          ]
        },
        {
          "output_type": "stream",
          "name": "stdout",
          "text": [
            "Epoch: 0\n",
            "Loss: 1.1283183097839355\n",
            "\n"
          ]
        },
        {
          "output_type": "stream",
          "name": "stderr",
          "text": [
            "Training:  14%|█▍        | 171/1210 [00:48<04:03,  4.26it/s]"
          ]
        },
        {
          "output_type": "stream",
          "name": "stdout",
          "text": [
            "Epoch: 0\n",
            "Loss: 0.984487771987915\n",
            "\n"
          ]
        },
        {
          "output_type": "stream",
          "name": "stderr",
          "text": [
            "Training:  15%|█▍        | 181/1210 [00:51<04:08,  4.15it/s]"
          ]
        },
        {
          "output_type": "stream",
          "name": "stdout",
          "text": [
            "Epoch: 0\n",
            "Loss: 0.9579302668571472\n",
            "\n"
          ]
        },
        {
          "output_type": "stream",
          "name": "stderr",
          "text": [
            "Training:  16%|█▌        | 191/1210 [00:55<09:38,  1.76it/s]"
          ]
        },
        {
          "output_type": "stream",
          "name": "stdout",
          "text": [
            "Epoch: 0\n",
            "Loss: 0.9442852139472961\n",
            "\n"
          ]
        },
        {
          "output_type": "stream",
          "name": "stderr",
          "text": [
            "Training:  17%|█▋        | 201/1210 [00:59<04:51,  3.47it/s]"
          ]
        },
        {
          "output_type": "stream",
          "name": "stdout",
          "text": [
            "Epoch: 0\n",
            "Loss: 1.1705846786499023\n",
            "\n"
          ]
        },
        {
          "output_type": "stream",
          "name": "stderr",
          "text": [
            "Training:  17%|█▋        | 211/1210 [01:02<04:08,  4.02it/s]"
          ]
        },
        {
          "output_type": "stream",
          "name": "stdout",
          "text": [
            "Epoch: 0\n",
            "Loss: 0.7938234806060791\n",
            "\n"
          ]
        },
        {
          "output_type": "stream",
          "name": "stderr",
          "text": [
            "Training:  18%|█▊        | 221/1210 [01:04<04:04,  4.05it/s]"
          ]
        },
        {
          "output_type": "stream",
          "name": "stdout",
          "text": [
            "Epoch: 0\n",
            "Loss: 1.0026756525039673\n",
            "\n"
          ]
        },
        {
          "output_type": "stream",
          "name": "stderr",
          "text": [
            "Training:  19%|█▉        | 231/1210 [01:07<03:59,  4.09it/s]"
          ]
        },
        {
          "output_type": "stream",
          "name": "stdout",
          "text": [
            "Epoch: 0\n",
            "Loss: 0.8848370313644409\n",
            "\n"
          ]
        },
        {
          "output_type": "stream",
          "name": "stderr",
          "text": [
            "Training:  20%|█▉        | 241/1210 [01:10<06:14,  2.59it/s]"
          ]
        },
        {
          "output_type": "stream",
          "name": "stdout",
          "text": [
            "Epoch: 0\n",
            "Loss: 1.0483263731002808\n",
            "\n"
          ]
        },
        {
          "output_type": "stream",
          "name": "stderr",
          "text": [
            "Training:  21%|██        | 251/1210 [01:13<04:07,  3.87it/s]"
          ]
        },
        {
          "output_type": "stream",
          "name": "stdout",
          "text": [
            "Epoch: 0\n",
            "Loss: 0.8563787341117859\n",
            "\n"
          ]
        },
        {
          "output_type": "stream",
          "name": "stderr",
          "text": [
            "Training:  22%|██▏       | 261/1210 [01:16<03:54,  4.05it/s]"
          ]
        },
        {
          "output_type": "stream",
          "name": "stdout",
          "text": [
            "Epoch: 0\n",
            "Loss: 0.7480975389480591\n",
            "\n"
          ]
        },
        {
          "output_type": "stream",
          "name": "stderr",
          "text": [
            "Training:  22%|██▏       | 271/1210 [01:18<03:46,  4.14it/s]"
          ]
        },
        {
          "output_type": "stream",
          "name": "stdout",
          "text": [
            "Epoch: 0\n",
            "Loss: 0.6200852990150452\n",
            "\n"
          ]
        },
        {
          "output_type": "stream",
          "name": "stderr",
          "text": [
            "Training:  23%|██▎       | 281/1210 [01:21<03:50,  4.03it/s]"
          ]
        },
        {
          "output_type": "stream",
          "name": "stdout",
          "text": [
            "Epoch: 0\n",
            "Loss: 0.6523107290267944\n",
            "\n"
          ]
        },
        {
          "output_type": "stream",
          "name": "stderr",
          "text": [
            "Training:  24%|██▍       | 291/1210 [01:24<05:46,  2.65it/s]"
          ]
        },
        {
          "output_type": "stream",
          "name": "stdout",
          "text": [
            "Epoch: 0\n",
            "Loss: 0.8723012208938599\n",
            "\n"
          ]
        },
        {
          "output_type": "stream",
          "name": "stderr",
          "text": [
            "Training:  25%|██▍       | 301/1210 [01:27<04:01,  3.76it/s]"
          ]
        },
        {
          "output_type": "stream",
          "name": "stdout",
          "text": [
            "Epoch: 0\n",
            "Loss: 0.7467724680900574\n",
            "\n"
          ]
        },
        {
          "output_type": "stream",
          "name": "stderr",
          "text": [
            "Training:  26%|██▌       | 311/1210 [01:30<03:41,  4.07it/s]"
          ]
        },
        {
          "output_type": "stream",
          "name": "stdout",
          "text": [
            "Epoch: 0\n",
            "Loss: 1.2479071617126465\n",
            "\n"
          ]
        },
        {
          "output_type": "stream",
          "name": "stderr",
          "text": [
            "Training:  27%|██▋       | 321/1210 [01:32<03:42,  4.00it/s]"
          ]
        },
        {
          "output_type": "stream",
          "name": "stdout",
          "text": [
            "Epoch: 0\n",
            "Loss: 0.984778106212616\n",
            "\n"
          ]
        },
        {
          "output_type": "stream",
          "name": "stderr",
          "text": [
            "Training:  27%|██▋       | 331/1210 [01:35<03:36,  4.05it/s]"
          ]
        },
        {
          "output_type": "stream",
          "name": "stdout",
          "text": [
            "Epoch: 0\n",
            "Loss: 0.8738481402397156\n",
            "\n"
          ]
        },
        {
          "output_type": "stream",
          "name": "stderr",
          "text": [
            "Training:  28%|██▊       | 341/1210 [01:38<05:21,  2.70it/s]"
          ]
        },
        {
          "output_type": "stream",
          "name": "stdout",
          "text": [
            "Epoch: 0\n",
            "Loss: 0.9658666849136353\n",
            "\n"
          ]
        },
        {
          "output_type": "stream",
          "name": "stderr",
          "text": [
            "Training:  29%|██▉       | 351/1210 [01:41<03:57,  3.61it/s]"
          ]
        },
        {
          "output_type": "stream",
          "name": "stdout",
          "text": [
            "Epoch: 0\n",
            "Loss: 0.9629693031311035\n",
            "\n"
          ]
        },
        {
          "output_type": "stream",
          "name": "stderr",
          "text": [
            "Training:  30%|██▉       | 361/1210 [01:44<03:30,  4.04it/s]"
          ]
        },
        {
          "output_type": "stream",
          "name": "stdout",
          "text": [
            "Epoch: 0\n",
            "Loss: 1.027348518371582\n",
            "\n"
          ]
        },
        {
          "output_type": "stream",
          "name": "stderr",
          "text": [
            "Training:  31%|███       | 371/1210 [01:46<03:28,  4.02it/s]"
          ]
        },
        {
          "output_type": "stream",
          "name": "stdout",
          "text": [
            "Epoch: 0\n",
            "Loss: 0.9346840977668762\n",
            "\n"
          ]
        },
        {
          "output_type": "stream",
          "name": "stderr",
          "text": [
            "Training:  31%|███▏      | 381/1210 [01:49<03:23,  4.06it/s]"
          ]
        },
        {
          "output_type": "stream",
          "name": "stdout",
          "text": [
            "Epoch: 0\n",
            "Loss: 0.9220830202102661\n",
            "\n"
          ]
        },
        {
          "output_type": "stream",
          "name": "stderr",
          "text": [
            "Training:  32%|███▏      | 391/1210 [01:52<05:06,  2.68it/s]"
          ]
        },
        {
          "output_type": "stream",
          "name": "stdout",
          "text": [
            "Epoch: 0\n",
            "Loss: 1.073441982269287\n",
            "\n"
          ]
        },
        {
          "output_type": "stream",
          "name": "stderr",
          "text": [
            "Training:  33%|███▎      | 401/1210 [01:55<03:57,  3.40it/s]"
          ]
        },
        {
          "output_type": "stream",
          "name": "stdout",
          "text": [
            "Epoch: 0\n",
            "Loss: 0.965587854385376\n",
            "\n"
          ]
        },
        {
          "output_type": "stream",
          "name": "stderr",
          "text": [
            "Training:  34%|███▍      | 411/1210 [01:58<03:17,  4.06it/s]"
          ]
        },
        {
          "output_type": "stream",
          "name": "stdout",
          "text": [
            "Epoch: 0\n",
            "Loss: 0.804539680480957\n",
            "\n"
          ]
        },
        {
          "output_type": "stream",
          "name": "stderr",
          "text": [
            "Training:  35%|███▍      | 421/1210 [02:00<03:15,  4.04it/s]"
          ]
        },
        {
          "output_type": "stream",
          "name": "stdout",
          "text": [
            "Epoch: 0\n",
            "Loss: 0.9119645357131958\n",
            "\n"
          ]
        },
        {
          "output_type": "stream",
          "name": "stderr",
          "text": [
            "Training:  36%|███▌      | 431/1210 [02:03<03:09,  4.10it/s]"
          ]
        },
        {
          "output_type": "stream",
          "name": "stdout",
          "text": [
            "Epoch: 0\n",
            "Loss: 0.9137387871742249\n",
            "\n"
          ]
        },
        {
          "output_type": "stream",
          "name": "stderr",
          "text": [
            "Training:  36%|███▋      | 441/1210 [02:07<08:19,  1.54it/s]"
          ]
        },
        {
          "output_type": "stream",
          "name": "stdout",
          "text": [
            "Epoch: 0\n",
            "Loss: 1.073771595954895\n",
            "\n"
          ]
        },
        {
          "output_type": "stream",
          "name": "stderr",
          "text": [
            "Training:  37%|███▋      | 451/1210 [02:11<03:25,  3.69it/s]"
          ]
        },
        {
          "output_type": "stream",
          "name": "stdout",
          "text": [
            "Epoch: 0\n",
            "Loss: 0.8448061347007751\n",
            "\n"
          ]
        },
        {
          "output_type": "stream",
          "name": "stderr",
          "text": [
            "Training:  38%|███▊      | 461/1210 [02:13<03:03,  4.08it/s]"
          ]
        },
        {
          "output_type": "stream",
          "name": "stdout",
          "text": [
            "Epoch: 0\n",
            "Loss: 0.9917412400245667\n",
            "\n"
          ]
        },
        {
          "output_type": "stream",
          "name": "stderr",
          "text": [
            "Training:  39%|███▉      | 471/1210 [02:15<03:04,  4.01it/s]"
          ]
        },
        {
          "output_type": "stream",
          "name": "stdout",
          "text": [
            "Epoch: 0\n",
            "Loss: 0.9463350772857666\n",
            "\n"
          ]
        },
        {
          "output_type": "stream",
          "name": "stderr",
          "text": [
            "Training:  40%|███▉      | 481/1210 [02:18<03:01,  4.02it/s]"
          ]
        },
        {
          "output_type": "stream",
          "name": "stdout",
          "text": [
            "Epoch: 0\n",
            "Loss: 0.9499550461769104\n",
            "\n"
          ]
        },
        {
          "output_type": "stream",
          "name": "stderr",
          "text": [
            "Training:  41%|████      | 491/1210 [02:21<04:24,  2.72it/s]"
          ]
        },
        {
          "output_type": "stream",
          "name": "stdout",
          "text": [
            "Epoch: 0\n",
            "Loss: 0.9555813670158386\n",
            "\n"
          ]
        },
        {
          "output_type": "stream",
          "name": "stderr",
          "text": [
            "Training:  41%|████▏     | 501/1210 [02:24<03:05,  3.83it/s]"
          ]
        },
        {
          "output_type": "stream",
          "name": "stdout",
          "text": [
            "Epoch: 0\n",
            "Loss: 1.0002596378326416\n",
            "\n"
          ]
        },
        {
          "output_type": "stream",
          "name": "stderr",
          "text": [
            "Training:  42%|████▏     | 511/1210 [02:28<04:25,  2.63it/s]"
          ]
        },
        {
          "output_type": "stream",
          "name": "stdout",
          "text": [
            "Epoch: 0\n",
            "Loss: 0.9038384556770325\n",
            "\n"
          ]
        },
        {
          "output_type": "stream",
          "name": "stderr",
          "text": [
            "Training:  43%|████▎     | 521/1210 [02:33<05:49,  1.97it/s]"
          ]
        },
        {
          "output_type": "stream",
          "name": "stdout",
          "text": [
            "Epoch: 0\n",
            "Loss: 0.8133660554885864\n",
            "\n"
          ]
        },
        {
          "output_type": "stream",
          "name": "stderr",
          "text": [
            "Training:  44%|████▍     | 531/1210 [02:39<05:32,  2.04it/s]"
          ]
        },
        {
          "output_type": "stream",
          "name": "stdout",
          "text": [
            "Epoch: 0\n",
            "Loss: 0.767876386642456\n",
            "\n"
          ]
        },
        {
          "output_type": "stream",
          "name": "stderr",
          "text": [
            "Training:  45%|████▍     | 541/1210 [02:42<03:42,  3.01it/s]"
          ]
        },
        {
          "output_type": "stream",
          "name": "stdout",
          "text": [
            "Epoch: 0\n",
            "Loss: 1.043287992477417\n",
            "\n"
          ]
        },
        {
          "output_type": "stream",
          "name": "stderr",
          "text": [
            "Training:  46%|████▌     | 551/1210 [02:46<03:38,  3.02it/s]"
          ]
        },
        {
          "output_type": "stream",
          "name": "stdout",
          "text": [
            "Epoch: 0\n",
            "Loss: 0.952438235282898\n",
            "\n"
          ]
        },
        {
          "output_type": "stream",
          "name": "stderr",
          "text": [
            "Training:  46%|████▋     | 561/1210 [02:51<07:06,  1.52it/s]"
          ]
        },
        {
          "output_type": "stream",
          "name": "stdout",
          "text": [
            "Epoch: 0\n",
            "Loss: 1.0044991970062256\n",
            "\n"
          ]
        },
        {
          "output_type": "stream",
          "name": "stderr",
          "text": [
            "Training:  47%|████▋     | 571/1210 [02:55<02:59,  3.57it/s]"
          ]
        },
        {
          "output_type": "stream",
          "name": "stdout",
          "text": [
            "Epoch: 0\n",
            "Loss: 0.9211862087249756\n",
            "\n"
          ]
        },
        {
          "output_type": "stream",
          "name": "stderr",
          "text": [
            "Training:  48%|████▊     | 581/1210 [02:57<02:40,  3.92it/s]"
          ]
        },
        {
          "output_type": "stream",
          "name": "stdout",
          "text": [
            "Epoch: 0\n",
            "Loss: 1.0266680717468262\n",
            "\n"
          ]
        },
        {
          "output_type": "stream",
          "name": "stderr",
          "text": [
            "Training:  49%|████▉     | 591/1210 [03:01<04:35,  2.24it/s]"
          ]
        },
        {
          "output_type": "stream",
          "name": "stdout",
          "text": [
            "Epoch: 0\n",
            "Loss: 0.895646333694458\n",
            "\n"
          ]
        },
        {
          "output_type": "stream",
          "name": "stderr",
          "text": [
            "Training:  50%|████▉     | 601/1210 [03:05<05:33,  1.83it/s]"
          ]
        },
        {
          "output_type": "stream",
          "name": "stdout",
          "text": [
            "Epoch: 0\n",
            "Loss: 1.0145280361175537\n",
            "\n"
          ]
        },
        {
          "output_type": "stream",
          "name": "stderr",
          "text": [
            "Training:  50%|█████     | 611/1210 [03:10<03:45,  2.65it/s]"
          ]
        },
        {
          "output_type": "stream",
          "name": "stdout",
          "text": [
            "Epoch: 0\n",
            "Loss: 0.9661678671836853\n",
            "\n"
          ]
        },
        {
          "output_type": "stream",
          "name": "stderr",
          "text": [
            "Training:  51%|█████▏    | 621/1210 [03:14<03:57,  2.48it/s]"
          ]
        },
        {
          "output_type": "stream",
          "name": "stdout",
          "text": [
            "Epoch: 0\n",
            "Loss: 0.943572998046875\n",
            "\n"
          ]
        },
        {
          "output_type": "stream",
          "name": "stderr",
          "text": [
            "Training:  52%|█████▏    | 631/1210 [03:18<05:29,  1.76it/s]"
          ]
        },
        {
          "output_type": "stream",
          "name": "stdout",
          "text": [
            "Epoch: 0\n",
            "Loss: 1.1014097929000854\n",
            "\n"
          ]
        },
        {
          "output_type": "stream",
          "name": "stderr",
          "text": [
            "Training:  53%|█████▎    | 641/1210 [03:22<02:49,  3.36it/s]"
          ]
        },
        {
          "output_type": "stream",
          "name": "stdout",
          "text": [
            "Epoch: 0\n",
            "Loss: 1.1180812120437622\n",
            "\n"
          ]
        },
        {
          "output_type": "stream",
          "name": "stderr",
          "text": [
            "Training:  54%|█████▍    | 651/1210 [03:25<03:35,  2.59it/s]"
          ]
        },
        {
          "output_type": "stream",
          "name": "stdout",
          "text": [
            "Epoch: 0\n",
            "Loss: 0.8823326230049133\n",
            "\n"
          ]
        },
        {
          "output_type": "stream",
          "name": "stderr",
          "text": [
            "Training:  55%|█████▍    | 661/1210 [03:28<02:24,  3.79it/s]"
          ]
        },
        {
          "output_type": "stream",
          "name": "stdout",
          "text": [
            "Epoch: 0\n",
            "Loss: 0.988349437713623\n",
            "\n"
          ]
        },
        {
          "output_type": "stream",
          "name": "stderr",
          "text": [
            "Training:  55%|█████▌    | 671/1210 [03:31<02:42,  3.31it/s]"
          ]
        },
        {
          "output_type": "stream",
          "name": "stdout",
          "text": [
            "Epoch: 0\n",
            "Loss: 0.9308637380599976\n",
            "\n"
          ]
        },
        {
          "output_type": "stream",
          "name": "stderr",
          "text": [
            "Training:  56%|█████▋    | 681/1210 [03:35<03:27,  2.55it/s]"
          ]
        },
        {
          "output_type": "stream",
          "name": "stdout",
          "text": [
            "Epoch: 0\n",
            "Loss: 1.119943618774414\n",
            "\n"
          ]
        },
        {
          "output_type": "stream",
          "name": "stderr",
          "text": [
            "Training:  57%|█████▋    | 691/1210 [03:37<02:14,  3.86it/s]"
          ]
        },
        {
          "output_type": "stream",
          "name": "stdout",
          "text": [
            "Epoch: 0\n",
            "Loss: 1.1222264766693115\n",
            "\n"
          ]
        },
        {
          "output_type": "stream",
          "name": "stderr",
          "text": [
            "Training:  58%|█████▊    | 701/1210 [03:40<02:09,  3.94it/s]"
          ]
        },
        {
          "output_type": "stream",
          "name": "stdout",
          "text": [
            "Epoch: 0\n",
            "Loss: 0.918846845626831\n",
            "\n"
          ]
        },
        {
          "output_type": "stream",
          "name": "stderr",
          "text": [
            "Training:  59%|█████▉    | 711/1210 [03:43<02:06,  3.95it/s]"
          ]
        },
        {
          "output_type": "stream",
          "name": "stdout",
          "text": [
            "Epoch: 0\n",
            "Loss: 0.9989769458770752\n",
            "\n"
          ]
        },
        {
          "output_type": "stream",
          "name": "stderr",
          "text": [
            "Training:  60%|█████▉    | 721/1210 [03:45<02:18,  3.54it/s]"
          ]
        },
        {
          "output_type": "stream",
          "name": "stdout",
          "text": [
            "Epoch: 0\n",
            "Loss: 0.9751492738723755\n",
            "\n"
          ]
        },
        {
          "output_type": "stream",
          "name": "stderr",
          "text": [
            "Training:  60%|██████    | 731/1210 [03:49<02:54,  2.75it/s]"
          ]
        },
        {
          "output_type": "stream",
          "name": "stdout",
          "text": [
            "Epoch: 0\n",
            "Loss: 0.9535025358200073\n",
            "\n"
          ]
        },
        {
          "output_type": "stream",
          "name": "stderr",
          "text": [
            "Training:  61%|██████    | 741/1210 [03:52<01:58,  3.96it/s]"
          ]
        },
        {
          "output_type": "stream",
          "name": "stdout",
          "text": [
            "Epoch: 0\n",
            "Loss: 1.0570307970046997\n",
            "\n"
          ]
        },
        {
          "output_type": "stream",
          "name": "stderr",
          "text": [
            "Training:  62%|██████▏   | 751/1210 [03:54<01:56,  3.93it/s]"
          ]
        },
        {
          "output_type": "stream",
          "name": "stdout",
          "text": [
            "Epoch: 0\n",
            "Loss: 1.006753921508789\n",
            "\n"
          ]
        },
        {
          "output_type": "stream",
          "name": "stderr",
          "text": [
            "Training:  63%|██████▎   | 761/1210 [03:57<01:54,  3.94it/s]"
          ]
        },
        {
          "output_type": "stream",
          "name": "stdout",
          "text": [
            "Epoch: 0\n",
            "Loss: 1.0102068185806274\n",
            "\n"
          ]
        },
        {
          "output_type": "stream",
          "name": "stderr",
          "text": [
            "Training:  63%|██████▎   | 763/1210 [03:57<01:52,  3.96it/s]"
          ]
        }
      ]
    },
    {
      "cell_type": "markdown",
      "source": [
        "## III. Testing it out\n",
        "\n",
        "My initial idea for testing was to gather a set of reference images that would act as my 'class label'. That being said, doing this introduces a tremendous amount of human bias to the process, since I would be choosing manually what image makes sense to me as the target for evaluating the outcome of the exercise.\n",
        "\n",
        "The next option was to still set reference target, but have them picked randomly in the notebook. I opted to let my Pytorch Dataset take care of that. In test mode, the dataset picks a random image and a candidate image to work with it. We will run the validation loop with the test dataset, which will give us our test accuracy based on randomly selected anchor/target pairs.\n",
        "\n",
        "I am not entirely satisfied with this methodology, but I have opted to use it as a starting point.\n"
      ],
      "metadata": {
        "id": "bxWBCtw23g5a"
      }
    },
    {
      "cell_type": "code",
      "source": [
        "# reference_image = {}\n",
        "# train_root = Path(local_root, 'train')\n",
        "# for folder in os.listdir(train_root):\n",
        "#   reference_image[folder] = Path(train_root, folder, random.choice(os.listdir(Path(train_root, folder))))\n",
        "\n",
        "test_transform = transforms.Compose([transforms.Resize((100,100)),\n",
        "                                     transforms.ToTensor()\n",
        "                                    ])\n",
        "\n",
        "test_set = SiameseSamplerDataset(imageFolderDataset='./my_snacks/test/',\n",
        "                                        transform=test_transform)\n",
        "test_loader = DataLoader(test_set, num_workers=2, batch_size=1, shuffle=True)\n",
        "\n",
        "validate_one_epoch(test_loader, model)"
      ],
      "metadata": {
        "id": "twd7UzniET1C"
      },
      "execution_count": null,
      "outputs": []
    },
    {
      "cell_type": "markdown",
      "source": [
        "## IV. Next Steps\n",
        "This turned out to be a fun little exercise that got me thinking about how I needed to tweak both the model, the data structure, and the process flow a few times, that was quite nice.\n",
        "\n",
        "I have unfortunately ran out of the time I could spend looking at this today - I got to a sound 'proof-of-concept' implementation I will build on top of later to get to the results I would like, a few challenges will be:\n",
        " * I will need to throw some compute at it\n",
        " * The dataset is small\n",
        " * I am somewhat sceptical of evaluating a triplet loss trained network on an accuracy metric, the couple papers I read were quite elusive about this aspect of the task. I want to benchmark this against SOTA image classifiers and refine my evaluation strategy\n",
        " * I don't know what the search for a pre-trained net that will generalize to the triplet loss task will look like\n",
        "\n",
        "My next steps here would be:\n",
        "* Throw cuda and some compute in the mix for 'real' training\n",
        "* Add transformations to the dataset\n",
        "* Move away from the from-scratch model and try fine tuning FaceNet instead\n",
        "* Tune the distance threshold\n",
        "* Optimize Dataset performance\n",
        "* Optimize Dataset sampling algorithm"
      ],
      "metadata": {
        "id": "O-ZYTcJPYHAN"
      }
    }
  ]
}
